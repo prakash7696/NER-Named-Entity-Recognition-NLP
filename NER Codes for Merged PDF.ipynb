{
 "cells": [
  {
   "cell_type": "code",
   "execution_count": null,
   "id": "b8acc7d0",
   "metadata": {},
   "outputs": [],
   "source": [
    "import os\n",
    "\n",
    "os.chdir(r'D:\\DA\\Internship\\Datasets\\NER')\n",
    "from PyPDF2 import PdfFileMerger\n",
    "#x = [a for a in os.listdir() if a.endswith(\".pdf\")]\n",
    " \n",
    "merger = PdfFileMerger()\n",
    " \n",
    "#for pdf in x:\n",
    "    #merger.append(open(pdf, 'rb'))\n",
    " \n",
    "#with open(\"merged.pdf\", \"wb\") as fout:\n",
    "    #merger.write(fout)"
   ]
  },
  {
   "cell_type": "code",
   "execution_count": null,
   "id": "8b903d45",
   "metadata": {},
   "outputs": [],
   "source": [
    "import pandas as pd\n",
    "import numpy as np\n",
    "import seaborn as sns\n",
    "import matplotlib.pyplot as plt\n",
    "import nltk\n",
    "from nltk.tokenize import word_tokenize, RegexpTokenizer\n",
    "from wordcloud import WordCloud\n",
    "import PyPDF2 as pdf\n",
    "import spacy"
   ]
  },
  {
   "cell_type": "code",
   "execution_count": null,
   "id": "d8636ad8",
   "metadata": {},
   "outputs": [],
   "source": [
    "file = open('merged.pdf', 'rb')\n",
    "fileReader = pdf.PdfFileReader(file)\n",
    "pages = fileReader.numPages\n",
    "pages"
   ]
  },
  {
   "cell_type": "code",
   "execution_count": null,
   "id": "8c885781",
   "metadata": {},
   "outputs": [],
   "source": [
    "num_pages = fileReader.numPages\n",
    "count = 0\n",
    "texts = \"\"\n",
    "while count < num_pages:\n",
    "    pageObj = fileReader.getPage(count)\n",
    "    count +=1\n",
    "    texts += pageObj.extractText()\n",
    "    print (texts)"
   ]
  },
  {
   "cell_type": "code",
   "execution_count": null,
   "id": "b6472392",
   "metadata": {},
   "outputs": [],
   "source": [
    "print([pos for pos, char in enumerate(texts) if char == '0'])"
   ]
  },
  {
   "cell_type": "code",
   "execution_count": null,
   "id": "458b865b",
   "metadata": {},
   "outputs": [],
   "source": [
    "print([pos for pos, char in enumerate(texts) if char == '1'])"
   ]
  },
  {
   "cell_type": "code",
   "execution_count": null,
   "id": "385e618e",
   "metadata": {},
   "outputs": [],
   "source": [
    "def character_indexes_comprehension():\n",
    "    string = \"Hello World! This is an example sentence with no meaning.\"\n",
    "    match = \"0\"\n",
    "\n",
    "    return [index for index, character in enumerate(texts) if character == match]\n",
    "\n",
    "\n",
    "print(character_indexes_comprehension())"
   ]
  },
  {
   "cell_type": "code",
   "execution_count": null,
   "id": "45ae7862",
   "metadata": {},
   "outputs": [],
   "source": [
    "string_array = np.array(list(texts))\n",
    "char_indexes = np.where(string_array == '0')\n",
    "print(char_indexes)"
   ]
  },
  {
   "cell_type": "code",
   "execution_count": null,
   "id": "0d43c285",
   "metadata": {},
   "outputs": [],
   "source": [
    "import more_itertools as mit\n",
    "search1 = lambda x: x == \"1\"\n",
    "search0 = lambda x: x == \"0\"\n",
    "list(mit.locate(texts, (search1) and search0))"
   ]
  },
  {
   "cell_type": "code",
   "execution_count": null,
   "id": "b122cff7",
   "metadata": {},
   "outputs": [],
   "source": [
    "print(type(texts))"
   ]
  },
  {
   "cell_type": "code",
   "execution_count": null,
   "id": "6b18f8d9",
   "metadata": {},
   "outputs": [],
   "source": [
    "text_array = np.array([texts])\n",
    "print(text_array[0])"
   ]
  },
  {
   "cell_type": "code",
   "execution_count": null,
   "id": "fe259365",
   "metadata": {},
   "outputs": [],
   "source": [
    "nlp = spacy.load(\"en_core_web_sm\")\n",
    "nlp.pipe_names"
   ]
  },
  {
   "cell_type": "code",
   "execution_count": null,
   "id": "843b70c8",
   "metadata": {},
   "outputs": [],
   "source": [
    "ner_lst = nlp.pipe_labels['ner']\n",
    "\n",
    "print(len(ner_lst))\n",
    "print(ner_lst)"
   ]
  },
  {
   "cell_type": "code",
   "execution_count": null,
   "id": "a64c3c8f",
   "metadata": {},
   "outputs": [],
   "source": [
    "nlp.max_length = 2030000\n",
    "doc = nlp(texts)"
   ]
  },
  {
   "cell_type": "code",
   "execution_count": null,
   "id": "cd578dbe",
   "metadata": {},
   "outputs": [],
   "source": [
    "#ts = test(texts)\n",
    "for ent in doc.ents:\n",
    "  if ent.label_.upper() == 'PERSON':\n",
    "    print(f'{ent.label_.upper():{10}} - {ent.text}')"
   ]
  },
  {
   "cell_type": "code",
   "execution_count": null,
   "id": "06a79f20",
   "metadata": {},
   "outputs": [],
   "source": [
    "for ent in doc.ents:\n",
    "  if ent.label_.upper() == 'DATE':\n",
    "    print(f'{ent.label_.upper():{10}} - {ent.text}')"
   ]
  },
  {
   "cell_type": "code",
   "execution_count": null,
   "id": "afc55115",
   "metadata": {},
   "outputs": [],
   "source": [
    "for ent in doc.ents:\n",
    "  if ent.label_.upper() == 'MONEY':\n",
    "    \n",
    "    print(f'{ent.label_.upper():{10}} - {ent.text}')"
   ]
  },
  {
   "cell_type": "code",
   "execution_count": null,
   "id": "36016d6e",
   "metadata": {},
   "outputs": [],
   "source": [
    "for ent in doc.ents:\n",
    "  if ent.label_.upper() == 'GPE':\n",
    "    print(f'{ent.label_.upper():{10}} - {ent.text}')"
   ]
  },
  {
   "cell_type": "code",
   "execution_count": null,
   "id": "74d6dbcf",
   "metadata": {},
   "outputs": [],
   "source": [
    "for ent in doc.ents:\n",
    "  if ent.label_.upper() == 'TIME':\n",
    "    print(f'{ent.label_.upper():{10}} - {ent.text}')"
   ]
  },
  {
   "cell_type": "code",
   "execution_count": null,
   "id": "a8d6051f",
   "metadata": {},
   "outputs": [],
   "source": [
    "for ent in doc.ents:\n",
    "  if ent.label_.upper() == 'LOC':\n",
    "    print(f'{ent.label_.upper():{10}} - {ent.text}')"
   ]
  },
  {
   "cell_type": "code",
   "execution_count": null,
   "id": "446bfa8e",
   "metadata": {},
   "outputs": [],
   "source": [
    "for ent in doc.ents:\n",
    "  if ent.label_.upper() == 'EVENT':\n",
    "    print(f'{ent.label_.upper():{10}} - {ent.text}')"
   ]
  },
  {
   "cell_type": "code",
   "execution_count": null,
   "id": "0616a6c4",
   "metadata": {},
   "outputs": [],
   "source": [
    "from spacy import displacy\n",
    "displacy.serve(doc, style=\"ent\")"
   ]
  },
  {
   "cell_type": "code",
   "execution_count": null,
   "id": "b1e60d09",
   "metadata": {},
   "outputs": [],
   "source": [
    "[int(s) for s in texts.split() if s.isdigit()]"
   ]
  },
  {
   "cell_type": "code",
   "execution_count": null,
   "id": "dd293321",
   "metadata": {},
   "outputs": [],
   "source": [
    "import re\n",
    "fvalues = re.findall(\"\\d+\\.\\d+\", texts)\n",
    "print(fvalues)"
   ]
  }
 ],
 "metadata": {
  "kernelspec": {
   "display_name": "Python 3 (ipykernel)",
   "language": "python",
   "name": "python3"
  },
  "language_info": {
   "codemirror_mode": {
    "name": "ipython",
    "version": 3
   },
   "file_extension": ".py",
   "mimetype": "text/x-python",
   "name": "python",
   "nbconvert_exporter": "python",
   "pygments_lexer": "ipython3",
   "version": "3.9.13"
  }
 },
 "nbformat": 4,
 "nbformat_minor": 5
}
